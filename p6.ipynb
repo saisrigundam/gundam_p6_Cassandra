{
 "cells": [
  {
   "cell_type": "code",
   "execution_count": 1,
   "id": "a482b32f-d0cb-434e-b466-50e3ff4257a2",
   "metadata": {},
   "outputs": [],
   "source": [
    "import pandas as pd\n",
    "import re\n",
    "from pyspark.sql import SparkSession\n",
    "from pyspark.sql.functions import col, expr\n",
    "from cassandra.cluster import Cluster\n",
    "import subprocess"
   ]
  },
  {
   "cell_type": "code",
   "execution_count": 4,
   "id": "e3cf25c4-8b49-487c-8f02-5892d2ffc16a",
   "metadata": {},
   "outputs": [
    {
     "name": "stdout",
     "output_type": "stream",
     "text": [
      "Datacenter: datacenter1\n",
      "=======================\n",
      "Status=Up/Down\n",
      "|/ State=Normal/Leaving/Joining/Moving\n",
      "--  Address        Load       Tokens  Owns (effective)  Host ID                               Rack \n",
      "UN  192.168.144.3  70.27 KiB  16      60.0%             ec7f5b01-8ee7-493e-bea3-ef75c949e4b8  rack1\n",
      "UN  192.168.144.4  25.55 KiB  16      80.0%             14acab58-d159-4c7f-a753-2a65b482ca27  rack1\n",
      "UN  192.168.144.2  25.55 KiB  16      60.0%             5c25eae9-4e89-4bf0-a856-db1b75d86ba8  rack1\n",
      "\n"
     ]
    }
   ],
   "source": [
    "!nodetool status"
   ]
  },
  {
   "cell_type": "code",
   "execution_count": 5,
   "id": "3d37582d-52d6-48ec-a8ba-5a05df311eec",
   "metadata": {},
   "outputs": [],
   "source": [
    "from cassandra.cluster import Cluster\n",
    "cluster = Cluster(['p6-db-1', 'p6-db-2', 'p6-db-3'])\n",
    "cass = cluster.connect()"
   ]
  },
  {
   "cell_type": "code",
   "execution_count": 6,
   "id": "20a3e699-2b44-4fe3-bbff-62db5b63647e",
   "metadata": {},
   "outputs": [
    {
     "data": {
      "text/plain": [
       "<cassandra.cluster.ResultSet at 0x7f83a426c040>"
      ]
     },
     "execution_count": 6,
     "metadata": {},
     "output_type": "execute_result"
    }
   ],
   "source": [
    "cass.execute(\"DROP KEYSPACE IF EXISTS weather\")"
   ]
  },
  {
   "cell_type": "code",
   "execution_count": 7,
   "id": "016d7bc7-9e56-45f0-8097-7783bd1dad61",
   "metadata": {},
   "outputs": [
    {
     "data": {
      "text/plain": [
       "<cassandra.cluster.ResultSet at 0x7f83a4388fd0>"
      ]
     },
     "execution_count": 7,
     "metadata": {},
     "output_type": "execute_result"
    }
   ],
   "source": [
    "cass.execute(\"create keyspace weather with replication = {'class' : 'SimpleStrategy', 'replication_factor' : 3}\")"
   ]
  },
  {
   "cell_type": "code",
   "execution_count": 8,
   "id": "4d17a565-bcf3-45b7-8501-fe4a01db6c5a",
   "metadata": {},
   "outputs": [
    {
     "data": {
      "text/plain": [
       "<cassandra.cluster.ResultSet at 0x7f83d514ef50>"
      ]
     },
     "execution_count": 8,
     "metadata": {},
     "output_type": "execute_result"
    }
   ],
   "source": [
    "cass.execute(\"use weather\")"
   ]
  },
  {
   "cell_type": "code",
   "execution_count": 9,
   "id": "029842be-6049-4f39-9396-4dda8674aa46",
   "metadata": {},
   "outputs": [
    {
     "data": {
      "text/plain": [
       "<cassandra.cluster.ResultSet at 0x7f83a4389480>"
      ]
     },
     "execution_count": 9,
     "metadata": {},
     "output_type": "execute_result"
    }
   ],
   "source": [
    "cass.execute(\"\"\"\n",
    "CREATE TYPE station_record (tmin INT,tmax INT)\n",
    "\"\"\")"
   ]
  },
  {
   "cell_type": "code",
   "execution_count": 10,
   "id": "5756455d-b2d9-427e-af06-06134be30d32",
   "metadata": {},
   "outputs": [
    {
     "data": {
      "text/plain": [
       "<cassandra.cluster.ResultSet at 0x7f83a43892d0>"
      ]
     },
     "execution_count": 10,
     "metadata": {},
     "output_type": "execute_result"
    }
   ],
   "source": [
    "cass.execute(\"drop table if exists stations\")"
   ]
  },
  {
   "cell_type": "code",
   "execution_count": 11,
   "id": "af5ec686-c043-44aa-b325-0865b47b4625",
   "metadata": {},
   "outputs": [
    {
     "data": {
      "text/plain": [
       "<cassandra.cluster.ResultSet at 0x7f83a4389bd0>"
      ]
     },
     "execution_count": 11,
     "metadata": {},
     "output_type": "execute_result"
    }
   ],
   "source": [
    "cass.execute(\"\"\"\n",
    "create table stations(\n",
    "    id TEXT,\n",
    "    name TEXT static,\n",
    "    date DATE,\n",
    "    record weather.station_record,\n",
    "    PRIMARY KEY (id , date)\n",
    ")\n",
    "\"\"\")"
   ]
  },
  {
   "cell_type": "code",
   "execution_count": 12,
   "id": "1b2c9061-060c-4bfb-93d1-58ea46683fa0",
   "metadata": {},
   "outputs": [
    {
     "data": {
      "text/plain": [
       "\"CREATE TABLE weather.stations (\\n    id text,\\n    date date,\\n    name text static,\\n    record station_record,\\n    PRIMARY KEY (id, date)\\n) WITH CLUSTERING ORDER BY (date ASC)\\n    AND additional_write_policy = '99p'\\n    AND bloom_filter_fp_chance = 0.01\\n    AND caching = {'keys': 'ALL', 'rows_per_partition': 'NONE'}\\n    AND cdc = false\\n    AND comment = ''\\n    AND compaction = {'class': 'org.apache.cassandra.db.compaction.SizeTieredCompactionStrategy', 'max_threshold': '32', 'min_threshold': '4'}\\n    AND compression = {'chunk_length_in_kb': '16', 'class': 'org.apache.cassandra.io.compress.LZ4Compressor'}\\n    AND memtable = 'default'\\n    AND crc_check_chance = 1.0\\n    AND default_time_to_live = 0\\n    AND extensions = {}\\n    AND gc_grace_seconds = 864000\\n    AND max_index_interval = 2048\\n    AND memtable_flush_period_in_ms = 0\\n    AND min_index_interval = 128\\n    AND read_repair = 'BLOCKING'\\n    AND speculative_retry = '99p';\""
      ]
     },
     "execution_count": 12,
     "metadata": {},
     "output_type": "execute_result"
    }
   ],
   "source": [
    "#q1\n",
    "cass.execute(\"describe table stations\").one().create_statement"
   ]
  },
  {
   "cell_type": "code",
   "execution_count": 13,
   "id": "e5cfdf8d-a622-459d-9613-08df16a34705",
   "metadata": {},
   "outputs": [
    {
     "name": "stdout",
     "output_type": "stream",
     "text": [
      ":: loading settings :: url = jar:file:/usr/local/lib/python3.10/dist-packages/pyspark/jars/ivy-2.5.1.jar!/org/apache/ivy/core/settings/ivysettings.xml\n"
     ]
    },
    {
     "name": "stderr",
     "output_type": "stream",
     "text": [
      "Ivy Default Cache set to: /root/.ivy2/cache\n",
      "The jars for the packages stored in: /root/.ivy2/jars\n",
      "com.datastax.spark#spark-cassandra-connector_2.12 added as a dependency\n",
      ":: resolving dependencies :: org.apache.spark#spark-submit-parent-a698b80c-fa2f-49c5-bad6-86e7dca0fb4d;1.0\n",
      "\tconfs: [default]\n",
      "\tfound com.datastax.spark#spark-cassandra-connector_2.12;3.4.0 in central\n",
      "\tfound com.datastax.spark#spark-cassandra-connector-driver_2.12;3.4.0 in central\n",
      "\tfound com.datastax.oss#java-driver-core-shaded;4.13.0 in central\n",
      "\tfound com.datastax.oss#native-protocol;1.5.0 in central\n",
      "\tfound com.datastax.oss#java-driver-shaded-guava;25.1-jre-graal-sub-1 in central\n",
      "\tfound com.typesafe#config;1.4.1 in central\n",
      "\tfound org.slf4j#slf4j-api;1.7.26 in central\n",
      "\tfound io.dropwizard.metrics#metrics-core;4.1.18 in central\n",
      "\tfound org.hdrhistogram#HdrHistogram;2.1.12 in central\n",
      "\tfound org.reactivestreams#reactive-streams;1.0.3 in central\n",
      "\tfound com.github.stephenc.jcip#jcip-annotations;1.0-1 in central\n",
      "\tfound com.github.spotbugs#spotbugs-annotations;3.1.12 in central\n",
      "\tfound com.google.code.findbugs#jsr305;3.0.2 in central\n",
      "\tfound com.datastax.oss#java-driver-mapper-runtime;4.13.0 in central\n",
      "\tfound com.datastax.oss#java-driver-query-builder;4.13.0 in central\n",
      "\tfound org.apache.commons#commons-lang3;3.10 in central\n",
      "\tfound com.thoughtworks.paranamer#paranamer;2.8 in central\n",
      "\tfound org.scala-lang#scala-reflect;2.12.11 in central\n",
      "downloading https://repo1.maven.org/maven2/com/datastax/spark/spark-cassandra-connector_2.12/3.4.0/spark-cassandra-connector_2.12-3.4.0.jar ...\n",
      "\t[SUCCESSFUL ] com.datastax.spark#spark-cassandra-connector_2.12;3.4.0!spark-cassandra-connector_2.12.jar (117ms)\n",
      "downloading https://repo1.maven.org/maven2/com/datastax/spark/spark-cassandra-connector-driver_2.12/3.4.0/spark-cassandra-connector-driver_2.12-3.4.0.jar ...\n",
      "\t[SUCCESSFUL ] com.datastax.spark#spark-cassandra-connector-driver_2.12;3.4.0!spark-cassandra-connector-driver_2.12.jar (104ms)\n",
      "downloading https://repo1.maven.org/maven2/com/datastax/oss/java-driver-core-shaded/4.13.0/java-driver-core-shaded-4.13.0.jar ...\n",
      "\t[SUCCESSFUL ] com.datastax.oss#java-driver-core-shaded;4.13.0!java-driver-core-shaded.jar (291ms)\n",
      "downloading https://repo1.maven.org/maven2/com/datastax/oss/java-driver-mapper-runtime/4.13.0/java-driver-mapper-runtime-4.13.0.jar ...\n",
      "\t[SUCCESSFUL ] com.datastax.oss#java-driver-mapper-runtime;4.13.0!java-driver-mapper-runtime.jar(bundle) (28ms)\n",
      "downloading https://repo1.maven.org/maven2/org/apache/commons/commons-lang3/3.10/commons-lang3-3.10.jar ...\n",
      "\t[SUCCESSFUL ] org.apache.commons#commons-lang3;3.10!commons-lang3.jar (62ms)\n",
      "downloading https://repo1.maven.org/maven2/com/thoughtworks/paranamer/paranamer/2.8/paranamer-2.8.jar ...\n",
      "\t[SUCCESSFUL ] com.thoughtworks.paranamer#paranamer;2.8!paranamer.jar(bundle) (29ms)\n",
      "downloading https://repo1.maven.org/maven2/org/scala-lang/scala-reflect/2.12.11/scala-reflect-2.12.11.jar ...\n",
      "\t[SUCCESSFUL ] org.scala-lang#scala-reflect;2.12.11!scala-reflect.jar (139ms)\n",
      "downloading https://repo1.maven.org/maven2/com/datastax/oss/native-protocol/1.5.0/native-protocol-1.5.0.jar ...\n",
      "\t[SUCCESSFUL ] com.datastax.oss#native-protocol;1.5.0!native-protocol.jar(bundle) (37ms)\n",
      "downloading https://repo1.maven.org/maven2/com/datastax/oss/java-driver-shaded-guava/25.1-jre-graal-sub-1/java-driver-shaded-guava-25.1-jre-graal-sub-1.jar ...\n",
      "\t[SUCCESSFUL ] com.datastax.oss#java-driver-shaded-guava;25.1-jre-graal-sub-1!java-driver-shaded-guava.jar (93ms)\n",
      "downloading https://repo1.maven.org/maven2/com/typesafe/config/1.4.1/config-1.4.1.jar ...\n",
      "\t[SUCCESSFUL ] com.typesafe#config;1.4.1!config.jar(bundle) (31ms)\n",
      "downloading https://repo1.maven.org/maven2/org/slf4j/slf4j-api/1.7.26/slf4j-api-1.7.26.jar ...\n",
      "\t[SUCCESSFUL ] org.slf4j#slf4j-api;1.7.26!slf4j-api.jar (53ms)\n",
      "downloading https://repo1.maven.org/maven2/io/dropwizard/metrics/metrics-core/4.1.18/metrics-core-4.1.18.jar ...\n",
      "\t[SUCCESSFUL ] io.dropwizard.metrics#metrics-core;4.1.18!metrics-core.jar(bundle) (27ms)\n",
      "downloading https://repo1.maven.org/maven2/org/hdrhistogram/HdrHistogram/2.1.12/HdrHistogram-2.1.12.jar ...\n",
      "\t[SUCCESSFUL ] org.hdrhistogram#HdrHistogram;2.1.12!HdrHistogram.jar(bundle) (28ms)\n",
      "downloading https://repo1.maven.org/maven2/org/reactivestreams/reactive-streams/1.0.3/reactive-streams-1.0.3.jar ...\n",
      "\t[SUCCESSFUL ] org.reactivestreams#reactive-streams;1.0.3!reactive-streams.jar (25ms)\n",
      "downloading https://repo1.maven.org/maven2/com/github/stephenc/jcip/jcip-annotations/1.0-1/jcip-annotations-1.0-1.jar ...\n",
      "\t[SUCCESSFUL ] com.github.stephenc.jcip#jcip-annotations;1.0-1!jcip-annotations.jar (25ms)\n",
      "downloading https://repo1.maven.org/maven2/com/github/spotbugs/spotbugs-annotations/3.1.12/spotbugs-annotations-3.1.12.jar ...\n",
      "\t[SUCCESSFUL ] com.github.spotbugs#spotbugs-annotations;3.1.12!spotbugs-annotations.jar (25ms)\n",
      "downloading https://repo1.maven.org/maven2/com/google/code/findbugs/jsr305/3.0.2/jsr305-3.0.2.jar ...\n",
      "\t[SUCCESSFUL ] com.google.code.findbugs#jsr305;3.0.2!jsr305.jar (25ms)\n",
      "downloading https://repo1.maven.org/maven2/com/datastax/oss/java-driver-query-builder/4.13.0/java-driver-query-builder-4.13.0.jar ...\n",
      "\t[SUCCESSFUL ] com.datastax.oss#java-driver-query-builder;4.13.0!java-driver-query-builder.jar(bundle) (58ms)\n",
      ":: resolution report :: resolve 5105ms :: artifacts dl 1232ms\n",
      "\t:: modules in use:\n",
      "\tcom.datastax.oss#java-driver-core-shaded;4.13.0 from central in [default]\n",
      "\tcom.datastax.oss#java-driver-mapper-runtime;4.13.0 from central in [default]\n",
      "\tcom.datastax.oss#java-driver-query-builder;4.13.0 from central in [default]\n",
      "\tcom.datastax.oss#java-driver-shaded-guava;25.1-jre-graal-sub-1 from central in [default]\n",
      "\tcom.datastax.oss#native-protocol;1.5.0 from central in [default]\n",
      "\tcom.datastax.spark#spark-cassandra-connector-driver_2.12;3.4.0 from central in [default]\n",
      "\tcom.datastax.spark#spark-cassandra-connector_2.12;3.4.0 from central in [default]\n",
      "\tcom.github.spotbugs#spotbugs-annotations;3.1.12 from central in [default]\n",
      "\tcom.github.stephenc.jcip#jcip-annotations;1.0-1 from central in [default]\n",
      "\tcom.google.code.findbugs#jsr305;3.0.2 from central in [default]\n",
      "\tcom.thoughtworks.paranamer#paranamer;2.8 from central in [default]\n",
      "\tcom.typesafe#config;1.4.1 from central in [default]\n",
      "\tio.dropwizard.metrics#metrics-core;4.1.18 from central in [default]\n",
      "\torg.apache.commons#commons-lang3;3.10 from central in [default]\n",
      "\torg.hdrhistogram#HdrHistogram;2.1.12 from central in [default]\n",
      "\torg.reactivestreams#reactive-streams;1.0.3 from central in [default]\n",
      "\torg.scala-lang#scala-reflect;2.12.11 from central in [default]\n",
      "\torg.slf4j#slf4j-api;1.7.26 from central in [default]\n",
      "\t---------------------------------------------------------------------\n",
      "\t|                  |            modules            ||   artifacts   |\n",
      "\t|       conf       | number| search|dwnlded|evicted|| number|dwnlded|\n",
      "\t---------------------------------------------------------------------\n",
      "\t|      default     |   18  |   18  |   18  |   0   ||   18  |   18  |\n",
      "\t---------------------------------------------------------------------\n",
      ":: retrieving :: org.apache.spark#spark-submit-parent-a698b80c-fa2f-49c5-bad6-86e7dca0fb4d\n",
      "\tconfs: [default]\n",
      "\t18 artifacts copied, 0 already retrieved (18067kB/204ms)\n",
      "23/11/22 23:34:26 WARN NativeCodeLoader: Unable to load native-hadoop library for your platform... using builtin-java classes where applicable\n",
      "Setting default log level to \"WARN\".\n",
      "To adjust logging level use sc.setLogLevel(newLevel). For SparkR, use setLogLevel(newLevel).\n"
     ]
    }
   ],
   "source": [
    "from pyspark.sql import SparkSession\n",
    "spark = (SparkSession.builder\n",
    "         .appName(\"p6\")\n",
    "         .config('spark.jars.packages', 'com.datastax.spark:spark-cassandra-connector_2.12:3.4.0')\n",
    "         .config(\"spark.sql.extensions\", \"com.datastax.spark.connector.CassandraSparkExtensions\")\n",
    "         .getOrCreate())"
   ]
  },
  {
   "cell_type": "code",
   "execution_count": 14,
   "id": "4fe7a19e-4415-4f18-b781-2324158ba8f4",
   "metadata": {},
   "outputs": [],
   "source": [
    "df = spark.read.text(\"ghcnd-stations.txt\")"
   ]
  },
  {
   "cell_type": "code",
   "execution_count": 15,
   "id": "5d4e3853-b548-4a4b-a5ec-98965c340256",
   "metadata": {},
   "outputs": [],
   "source": [
    "df2 = df.withColumn(\"id\", expr(\"SUBSTRING(value, 1, 11)\")) \\\n",
    "        .withColumn(\"state\", expr(\"SUBSTRING(value, 39, 2)\")) \\\n",
    "        .withColumn(\"name\", expr(\"SUBSTRING(value, 41, 30)\"))"
   ]
  },
  {
   "cell_type": "code",
   "execution_count": 16,
   "id": "02b40917-7f44-4270-9cd7-87752fd3cfab",
   "metadata": {},
   "outputs": [
    {
     "name": "stderr",
     "output_type": "stream",
     "text": [
      "                                                                                \r"
     ]
    },
    {
     "data": {
      "text/html": [
       "<div>\n",
       "<style scoped>\n",
       "    .dataframe tbody tr th:only-of-type {\n",
       "        vertical-align: middle;\n",
       "    }\n",
       "\n",
       "    .dataframe tbody tr th {\n",
       "        vertical-align: top;\n",
       "    }\n",
       "\n",
       "    .dataframe thead th {\n",
       "        text-align: right;\n",
       "    }\n",
       "</style>\n",
       "<table border=\"1\" class=\"dataframe\">\n",
       "  <thead>\n",
       "    <tr style=\"text-align: right;\">\n",
       "      <th></th>\n",
       "      <th>value</th>\n",
       "      <th>id</th>\n",
       "      <th>state</th>\n",
       "      <th>name</th>\n",
       "    </tr>\n",
       "  </thead>\n",
       "  <tbody>\n",
       "    <tr>\n",
       "      <th>0</th>\n",
       "      <td>ACW00011604  17.1167  -61.7833   10.1    ST JO...</td>\n",
       "      <td>ACW00011604</td>\n",
       "      <td></td>\n",
       "      <td>ST JOHNS COOLIDGE FLD</td>\n",
       "    </tr>\n",
       "    <tr>\n",
       "      <th>1</th>\n",
       "      <td>ACW00011647  17.1333  -61.7833   19.2    ST JO...</td>\n",
       "      <td>ACW00011647</td>\n",
       "      <td></td>\n",
       "      <td>ST JOHNS</td>\n",
       "    </tr>\n",
       "    <tr>\n",
       "      <th>2</th>\n",
       "      <td>AE000041196  25.3330   55.5170   34.0    SHARJ...</td>\n",
       "      <td>AE000041196</td>\n",
       "      <td></td>\n",
       "      <td>SHARJAH INTER. AIRP</td>\n",
       "    </tr>\n",
       "    <tr>\n",
       "      <th>3</th>\n",
       "      <td>AEM00041194  25.2550   55.3640   10.4    DUBAI...</td>\n",
       "      <td>AEM00041194</td>\n",
       "      <td></td>\n",
       "      <td>DUBAI INTL</td>\n",
       "    </tr>\n",
       "    <tr>\n",
       "      <th>4</th>\n",
       "      <td>AEM00041217  24.4330   54.6510   26.8    ABU D...</td>\n",
       "      <td>AEM00041217</td>\n",
       "      <td></td>\n",
       "      <td>ABU DHABI INTL</td>\n",
       "    </tr>\n",
       "    <tr>\n",
       "      <th>5</th>\n",
       "      <td>AEM00041218  24.2620   55.6090  264.9    AL AI...</td>\n",
       "      <td>AEM00041218</td>\n",
       "      <td></td>\n",
       "      <td>AL AIN INTL</td>\n",
       "    </tr>\n",
       "    <tr>\n",
       "      <th>6</th>\n",
       "      <td>AF000040930  35.3170   69.0170 3366.0    NORTH...</td>\n",
       "      <td>AF000040930</td>\n",
       "      <td></td>\n",
       "      <td>NORTH-SALANG</td>\n",
       "    </tr>\n",
       "    <tr>\n",
       "      <th>7</th>\n",
       "      <td>AFM00040938  34.2100   62.2280  977.2    HERAT...</td>\n",
       "      <td>AFM00040938</td>\n",
       "      <td></td>\n",
       "      <td>HERAT</td>\n",
       "    </tr>\n",
       "    <tr>\n",
       "      <th>8</th>\n",
       "      <td>AFM00040948  34.5660   69.2120 1791.3    KABUL...</td>\n",
       "      <td>AFM00040948</td>\n",
       "      <td></td>\n",
       "      <td>KABUL INTL</td>\n",
       "    </tr>\n",
       "    <tr>\n",
       "      <th>9</th>\n",
       "      <td>AFM00040990  31.5000   65.8500 1010.0    KANDA...</td>\n",
       "      <td>AFM00040990</td>\n",
       "      <td></td>\n",
       "      <td>KANDAHAR AIRPORT</td>\n",
       "    </tr>\n",
       "  </tbody>\n",
       "</table>\n",
       "</div>"
      ],
      "text/plain": [
       "                                               value           id state  \\\n",
       "0  ACW00011604  17.1167  -61.7833   10.1    ST JO...  ACW00011604         \n",
       "1  ACW00011647  17.1333  -61.7833   19.2    ST JO...  ACW00011647         \n",
       "2  AE000041196  25.3330   55.5170   34.0    SHARJ...  AE000041196         \n",
       "3  AEM00041194  25.2550   55.3640   10.4    DUBAI...  AEM00041194         \n",
       "4  AEM00041217  24.4330   54.6510   26.8    ABU D...  AEM00041217         \n",
       "5  AEM00041218  24.2620   55.6090  264.9    AL AI...  AEM00041218         \n",
       "6  AF000040930  35.3170   69.0170 3366.0    NORTH...  AF000040930         \n",
       "7  AFM00040938  34.2100   62.2280  977.2    HERAT...  AFM00040938         \n",
       "8  AFM00040948  34.5660   69.2120 1791.3    KABUL...  AFM00040948         \n",
       "9  AFM00040990  31.5000   65.8500 1010.0    KANDA...  AFM00040990         \n",
       "\n",
       "                             name  \n",
       "0   ST JOHNS COOLIDGE FLD          \n",
       "1   ST JOHNS                       \n",
       "2   SHARJAH INTER. AIRP            \n",
       "3   DUBAI INTL                     \n",
       "4   ABU DHABI INTL                 \n",
       "5   AL AIN INTL                    \n",
       "6   NORTH-SALANG                   \n",
       "7   HERAT                          \n",
       "8   KABUL INTL                     \n",
       "9   KANDAHAR AIRPORT               "
      ]
     },
     "execution_count": 16,
     "metadata": {},
     "output_type": "execute_result"
    }
   ],
   "source": [
    "df2.limit(10).toPandas()"
   ]
  },
  {
   "cell_type": "code",
   "execution_count": 17,
   "id": "0b1ffa20-cc41-460b-b3b6-80e5d21beb16",
   "metadata": {},
   "outputs": [
    {
     "name": "stderr",
     "output_type": "stream",
     "text": [
      "                                                                                \r"
     ]
    },
    {
     "data": {
      "text/html": [
       "<div>\n",
       "<style scoped>\n",
       "    .dataframe tbody tr th:only-of-type {\n",
       "        vertical-align: middle;\n",
       "    }\n",
       "\n",
       "    .dataframe tbody tr th {\n",
       "        vertical-align: top;\n",
       "    }\n",
       "\n",
       "    .dataframe thead th {\n",
       "        text-align: right;\n",
       "    }\n",
       "</style>\n",
       "<table border=\"1\" class=\"dataframe\">\n",
       "  <thead>\n",
       "    <tr style=\"text-align: right;\">\n",
       "      <th></th>\n",
       "      <th>value</th>\n",
       "      <th>id</th>\n",
       "      <th>state</th>\n",
       "      <th>name</th>\n",
       "    </tr>\n",
       "  </thead>\n",
       "  <tbody>\n",
       "    <tr>\n",
       "      <th>0</th>\n",
       "      <td>US1WIAD0002  43.9544  -89.8096  294.4 WI ADAMS...</td>\n",
       "      <td>US1WIAD0002</td>\n",
       "      <td>WI</td>\n",
       "      <td>ADAMS 0.4 E</td>\n",
       "    </tr>\n",
       "    <tr>\n",
       "      <th>1</th>\n",
       "      <td>US1WIAD0005  44.2053  -89.8480  305.7 WI NEKOO...</td>\n",
       "      <td>US1WIAD0005</td>\n",
       "      <td>WI</td>\n",
       "      <td>NEKOOSA 8.0 SSE</td>\n",
       "    </tr>\n",
       "    <tr>\n",
       "      <th>2</th>\n",
       "      <td>US1WIAD0006  43.8858  -89.7259  307.8 WI GRAND...</td>\n",
       "      <td>US1WIAD0006</td>\n",
       "      <td>WI</td>\n",
       "      <td>GRAND MARSH 1.0 W</td>\n",
       "    </tr>\n",
       "    <tr>\n",
       "      <th>3</th>\n",
       "      <td>US1WIAD0008  43.8611  -89.7163  310.0 WI GRAND...</td>\n",
       "      <td>US1WIAD0008</td>\n",
       "      <td>WI</td>\n",
       "      <td>GRAND MARSH 1.9 SSW</td>\n",
       "    </tr>\n",
       "    <tr>\n",
       "      <th>4</th>\n",
       "      <td>US1WIAD0010  43.7864  -89.6417  293.8 WI OXFOR...</td>\n",
       "      <td>US1WIAD0010</td>\n",
       "      <td>WI</td>\n",
       "      <td>OXFORD 4.0 W</td>\n",
       "    </tr>\n",
       "    <tr>\n",
       "      <th>5</th>\n",
       "      <td>US1WIAD0015  43.7855  -89.6483  288.3 WI OXFOR...</td>\n",
       "      <td>US1WIAD0015</td>\n",
       "      <td>WI</td>\n",
       "      <td>OXFORD 4.3 W</td>\n",
       "    </tr>\n",
       "    <tr>\n",
       "      <th>6</th>\n",
       "      <td>US1WIAD0016  44.0623  -89.7948  315.5 WI FRIEN...</td>\n",
       "      <td>US1WIAD0016</td>\n",
       "      <td>WI</td>\n",
       "      <td>FRIENDSHIP 6.4 NNE</td>\n",
       "    </tr>\n",
       "    <tr>\n",
       "      <th>7</th>\n",
       "      <td>US1WIAD0017  44.0628  -89.8001  302.7 WI FRIEN...</td>\n",
       "      <td>US1WIAD0017</td>\n",
       "      <td>WI</td>\n",
       "      <td>FRIENDSHIP 6.4 N</td>\n",
       "    </tr>\n",
       "    <tr>\n",
       "      <th>8</th>\n",
       "      <td>US1WIAS0003  46.5818  -90.8842  210.0 WI ASHLA...</td>\n",
       "      <td>US1WIAS0003</td>\n",
       "      <td>WI</td>\n",
       "      <td>ASHLAND 0.5 WNW</td>\n",
       "    </tr>\n",
       "    <tr>\n",
       "      <th>9</th>\n",
       "      <td>US1WIAS0004  46.5824  -90.8839  213.4 WI ASHLA...</td>\n",
       "      <td>US1WIAS0004</td>\n",
       "      <td>WI</td>\n",
       "      <td>ASHLAND 0.5 WNW</td>\n",
       "    </tr>\n",
       "  </tbody>\n",
       "</table>\n",
       "</div>"
      ],
      "text/plain": [
       "                                               value           id state  \\\n",
       "0  US1WIAD0002  43.9544  -89.8096  294.4 WI ADAMS...  US1WIAD0002    WI   \n",
       "1  US1WIAD0005  44.2053  -89.8480  305.7 WI NEKOO...  US1WIAD0005    WI   \n",
       "2  US1WIAD0006  43.8858  -89.7259  307.8 WI GRAND...  US1WIAD0006    WI   \n",
       "3  US1WIAD0008  43.8611  -89.7163  310.0 WI GRAND...  US1WIAD0008    WI   \n",
       "4  US1WIAD0010  43.7864  -89.6417  293.8 WI OXFOR...  US1WIAD0010    WI   \n",
       "5  US1WIAD0015  43.7855  -89.6483  288.3 WI OXFOR...  US1WIAD0015    WI   \n",
       "6  US1WIAD0016  44.0623  -89.7948  315.5 WI FRIEN...  US1WIAD0016    WI   \n",
       "7  US1WIAD0017  44.0628  -89.8001  302.7 WI FRIEN...  US1WIAD0017    WI   \n",
       "8  US1WIAS0003  46.5818  -90.8842  210.0 WI ASHLA...  US1WIAS0003    WI   \n",
       "9  US1WIAS0004  46.5824  -90.8839  213.4 WI ASHLA...  US1WIAS0004    WI   \n",
       "\n",
       "                             name  \n",
       "0   ADAMS 0.4 E                    \n",
       "1   NEKOOSA 8.0 SSE                \n",
       "2   GRAND MARSH 1.0 W              \n",
       "3   GRAND MARSH 1.9 SSW            \n",
       "4   OXFORD 4.0 W                   \n",
       "5   OXFORD 4.3 W                   \n",
       "6   FRIENDSHIP 6.4 NNE             \n",
       "7   FRIENDSHIP 6.4 N               \n",
       "8   ASHLAND 0.5 WNW                \n",
       "9   ASHLAND 0.5 WNW                "
      ]
     },
     "execution_count": 17,
     "metadata": {},
     "output_type": "execute_result"
    }
   ],
   "source": [
    "filtered_stations_df = df2.filter(col(\"state\") == \"WI\")\n",
    "filtered_stations_df.limit(10).toPandas()"
   ]
  },
  {
   "cell_type": "code",
   "execution_count": 18,
   "id": "188d8bf0-514a-4360-9b11-01a4969648d0",
   "metadata": {},
   "outputs": [],
   "source": [
    "loop_data = filtered_stations_df.collect()"
   ]
  },
  {
   "cell_type": "code",
   "execution_count": 19,
   "id": "1d6d31f6-ff70-4d61-86e5-a3ac2028cba3",
   "metadata": {},
   "outputs": [],
   "source": [
    "# loop_data"
   ]
  },
  {
   "cell_type": "code",
   "execution_count": 20,
   "id": "912189c4-b16c-410a-b65f-a4c8927eec47",
   "metadata": {},
   "outputs": [],
   "source": [
    "for row in loop_data:\n",
    "    station_id = row[\"id\"].strip()\n",
    "    station_name = row[\"name\"].strip()\n",
    "    station_name = re.sub(r'[^\\w]', ' ', station_name)\n",
    "    query = \"INSERT INTO weather.stations (id, name) VALUES ('{}', '{}')\".format(station_id, station_name)\n",
    "    cass.execute(query)"
   ]
  },
  {
   "cell_type": "code",
   "execution_count": 21,
   "id": "1213aafc-d1f4-4c67-a1d1-d1e2ed869ae7",
   "metadata": {},
   "outputs": [],
   "source": [
    "x = cass.execute(\"\"\"\n",
    "SELECT count(*) FROM weather.stations\n",
    "\"\"\")"
   ]
  },
  {
   "cell_type": "code",
   "execution_count": 22,
   "id": "bdf72278-b23f-4f17-bb1c-50ee9bfd9fad",
   "metadata": {},
   "outputs": [],
   "source": [
    "cnt = pd.DataFrame(x)"
   ]
  },
  {
   "cell_type": "code",
   "execution_count": 23,
   "id": "c7d9b028-0b44-4bee-b832-d7d95f709263",
   "metadata": {},
   "outputs": [
    {
     "data": {
      "text/html": [
       "<div>\n",
       "<style scoped>\n",
       "    .dataframe tbody tr th:only-of-type {\n",
       "        vertical-align: middle;\n",
       "    }\n",
       "\n",
       "    .dataframe tbody tr th {\n",
       "        vertical-align: top;\n",
       "    }\n",
       "\n",
       "    .dataframe thead th {\n",
       "        text-align: right;\n",
       "    }\n",
       "</style>\n",
       "<table border=\"1\" class=\"dataframe\">\n",
       "  <thead>\n",
       "    <tr style=\"text-align: right;\">\n",
       "      <th></th>\n",
       "      <th>count</th>\n",
       "    </tr>\n",
       "  </thead>\n",
       "  <tbody>\n",
       "    <tr>\n",
       "      <th>0</th>\n",
       "      <td>1313</td>\n",
       "    </tr>\n",
       "  </tbody>\n",
       "</table>\n",
       "</div>"
      ],
      "text/plain": [
       "   count\n",
       "0   1313"
      ]
     },
     "execution_count": 23,
     "metadata": {},
     "output_type": "execute_result"
    }
   ],
   "source": [
    "cnt"
   ]
  },
  {
   "cell_type": "code",
   "execution_count": 24,
   "id": "1521953c-745a-4ecc-8f51-c37ee34f9576",
   "metadata": {},
   "outputs": [
    {
     "data": {
      "text/plain": [
       "'MADISON DANE CO RGNL AP'"
      ]
     },
     "execution_count": 24,
     "metadata": {},
     "output_type": "execute_result"
    }
   ],
   "source": [
    "#q2\n",
    "x = cass.execute(\"\"\"\n",
    "select name from stations where id='USW00014837'\n",
    "\"\"\")\n",
    "y=x.one()[0]\n",
    "y"
   ]
  },
  {
   "cell_type": "code",
   "execution_count": 25,
   "id": "056fa03f-1eb1-43b5-bfe0-dad1ed2cb600",
   "metadata": {},
   "outputs": [
    {
     "data": {
      "text/plain": [
       "-9014250178872933741"
      ]
     },
     "execution_count": 25,
     "metadata": {},
     "output_type": "execute_result"
    }
   ],
   "source": [
    "#q3\n",
    "x = cass.execute(\"\"\"\n",
    "select token(id) from stations where id='USC00470273'\n",
    "\"\"\")\n",
    "y=x.one()[0]\n",
    "y"
   ]
  },
  {
   "cell_type": "code",
   "execution_count": 26,
   "id": "c6ecc45a-241f-4ec2-a966-d9c0dbd5d7d3",
   "metadata": {},
   "outputs": [
    {
     "name": "stdout",
     "output_type": "stream",
     "text": [
      "\n",
      "Datacenter: datacenter1\n",
      "==========\n",
      "Address             Rack        Status State   Load            Owns                Token                                       \n",
      "                                                                                   8899360145757685173                         \n",
      "p6-db-2.project-6-team_bds_p6_default  rack1       Up     Normal  87.75 KiB       100.00%             -9022953963321962585                        \n",
      "p6-db-2.project-6-team_bds_p6_default  rack1       Up     Normal  87.75 KiB       100.00%             -8607316303750322705                        \n",
      "p6-db-3.project-6-team_bds_p6_default  rack1       Up     Normal  87.74 KiB       100.00%             -8385076462431130982                        \n",
      "p6-db-1             rack1       Up     Normal  87.75 KiB       100.00%             -7957379375437967804                        \n",
      "p6-db-3.project-6-team_bds_p6_default  rack1       Up     Normal  87.74 KiB       100.00%             -7417712219352595483                        \n",
      "p6-db-2.project-6-team_bds_p6_default  rack1       Up     Normal  87.75 KiB       100.00%             -7395635957078341558                        \n",
      "p6-db-2.project-6-team_bds_p6_default  rack1       Up     Normal  87.75 KiB       100.00%             -6998313104729628767                        \n",
      "p6-db-1             rack1       Up     Normal  87.75 KiB       100.00%             -6338356079740924506                        \n",
      "p6-db-3.project-6-team_bds_p6_default  rack1       Up     Normal  87.74 KiB       100.00%             -5827707666838696845                        \n",
      "p6-db-2.project-6-team_bds_p6_default  rack1       Up     Normal  87.75 KiB       100.00%             -5739892388784185679                        \n",
      "p6-db-1             rack1       Up     Normal  87.75 KiB       100.00%             -5360210627224810431                        \n",
      "p6-db-2.project-6-team_bds_p6_default  rack1       Up     Normal  87.75 KiB       100.00%             -4705591742108781313                        \n",
      "p6-db-2.project-6-team_bds_p6_default  rack1       Up     Normal  87.75 KiB       100.00%             -4279305240827651923                        \n",
      "p6-db-3.project-6-team_bds_p6_default  rack1       Up     Normal  87.74 KiB       100.00%             -4208684371141653547                        \n",
      "p6-db-1             rack1       Up     Normal  87.75 KiB       100.00%             -3581576326401223302                        \n",
      "p6-db-3.project-6-team_bds_p6_default  rack1       Up     Normal  87.74 KiB       100.00%             -3230538918625539472                        \n",
      "p6-db-2.project-6-team_bds_p6_default  rack1       Up     Normal  87.75 KiB       100.00%             -2929103414252974039                        \n",
      "p6-db-1             rack1       Up     Normal  87.75 KiB       100.00%             -2485534426166285013                        \n",
      "p6-db-2.project-6-team_bds_p6_default  rack1       Up     Normal  87.75 KiB       100.00%             -1871726897324015822                        \n",
      "p6-db-3.project-6-team_bds_p6_default  rack1       Up     Normal  87.74 KiB       100.00%             -1451904617801952343                        \n",
      "p6-db-1             rack1       Up     Normal  87.75 KiB       100.00%             -1394237315474072753                        \n",
      "p6-db-1             rack1       Up     Normal  87.75 KiB       100.00%             -549860667982910997                         \n",
      "p6-db-3.project-6-team_bds_p6_default  rack1       Up     Normal  87.74 KiB       100.00%             -355862717567014054                         \n",
      "p6-db-2.project-6-team_bds_p6_default  rack1       Up     Normal  87.75 KiB       100.00%             249968002678219285                          \n",
      "p6-db-3.project-6-team_bds_p6_default  rack1       Up     Normal  87.74 KiB       100.00%             735434393125198205                          \n",
      "p6-db-1             rack1       Up     Normal  87.75 KiB       100.00%             890407561919672241                          \n",
      "p6-db-2.project-6-team_bds_p6_default  rack1       Up     Normal  87.75 KiB       100.00%             1508388593821872318                         \n",
      "p6-db-3.project-6-team_bds_p6_default  rack1       Up     Normal  87.74 KiB       100.00%             1579811040616359962                         \n",
      "p6-db-1             rack1       Up     Normal  87.75 KiB       100.00%             1961908178259705054                         \n",
      "p6-db-2.project-6-team_bds_p6_default  rack1       Up     Normal  87.75 KiB       100.00%             2572729583594935715                         \n",
      "p6-db-1             rack1       Up     Normal  87.75 KiB       100.00%             2979759583002132069                         \n",
      "p6-db-3.project-6-team_bds_p6_default  rack1       Up     Normal  87.74 KiB       100.00%             3020079270518943200                         \n",
      "p6-db-1             rack1       Up     Normal  87.75 KiB       100.00%             3797431515614482864                         \n",
      "p6-db-3.project-6-team_bds_p6_default  rack1       Up     Normal  87.74 KiB       100.00%             4091579886858976013                         \n",
      "p6-db-2.project-6-team_bds_p6_default  rack1       Up     Normal  87.75 KiB       100.00%             4392733884574882114                         \n",
      "p6-db-1             rack1       Up     Normal  87.75 KiB       100.00%             4873187396840062403                         \n",
      "p6-db-3.project-6-team_bds_p6_default  rack1       Up     Normal  87.74 KiB       100.00%             5109431291601403028                         \n",
      "p6-db-1             rack1       Up     Normal  87.75 KiB       100.00%             5609103089550956044                         \n",
      "p6-db-3.project-6-team_bds_p6_default  rack1       Up     Normal  87.74 KiB       100.00%             5927103224213753823                         \n",
      "p6-db-2.project-6-team_bds_p6_default  rack1       Up     Normal  87.75 KiB       100.00%             6269798214087868143                         \n",
      "p6-db-1             rack1       Up     Normal  87.75 KiB       100.00%             6688475896998557702                         \n",
      "p6-db-3.project-6-team_bds_p6_default  rack1       Up     Normal  87.74 KiB       100.00%             7002859105439333362                         \n",
      "p6-db-2.project-6-team_bds_p6_default  rack1       Up     Normal  87.75 KiB       100.00%             7438753137266882522                         \n",
      "p6-db-3.project-6-team_bds_p6_default  rack1       Up     Normal  87.74 KiB       100.00%             7738774798150227003                         \n",
      "p6-db-1             rack1       Up     Normal  87.75 KiB       100.00%             7931995902679149674                         \n",
      "p6-db-2.project-6-team_bds_p6_default  rack1       Up     Normal  87.75 KiB       100.00%             8487876937596073610                         \n",
      "p6-db-3.project-6-team_bds_p6_default  rack1       Up     Normal  87.74 KiB       100.00%             8818147605597828661                         \n",
      "p6-db-1             rack1       Up     Normal  87.75 KiB       100.00%             8899360145757685173                         \n",
      "\n",
      "  Warning: \"nodetool ring\" is used to output all the tokens of a node.\n",
      "  To view status related info of a node use \"nodetool status\" instead.\n",
      "\n",
      "\n",
      "  "
     ]
    }
   ],
   "source": [
    "!nodetool ring  -r -- weather\n"
   ]
  },
  {
   "cell_type": "code",
   "execution_count": 27,
   "id": "fd63836e-aa45-41ea-a102-f3178d421e12",
   "metadata": {},
   "outputs": [],
   "source": [
    "x = subprocess.check_output(\n",
    "    \"nodetool ring -- weather\",\n",
    "    stderr=subprocess.STDOUT,\n",
    "    shell=True)"
   ]
  },
  {
   "cell_type": "code",
   "execution_count": 28,
   "id": "5e5dc273-7d79-4910-9093-80d74ad8e667",
   "metadata": {},
   "outputs": [],
   "source": [
    "x_str = x.decode('utf-8')"
   ]
  },
  {
   "cell_type": "code",
   "execution_count": 29,
   "id": "27f562b4-1e10-4319-a969-d2344959103d",
   "metadata": {},
   "outputs": [
    {
     "data": {
      "text/plain": [
       "-8607316303750322705"
      ]
     },
     "execution_count": 29,
     "metadata": {},
     "output_type": "execute_result"
    }
   ],
   "source": [
    "#q4\n",
    "t = x_str.split(\"\\n\")\n",
    "t = list(filter(lambda tx: 'Normal' in tx, t))\n",
    "nodetool = []\n",
    "for tx in t:\n",
    "    values = list(map(lambda x: x.strip(), tx.split(' ')))\n",
    "    nodetool.append([x for x in values if x != ''])\n",
    "    # print(values)\n",
    "    # print('-------------------')\n",
    "tokens = []\n",
    "for val in nodetool:\n",
    "    tokens.append(int(val[-1]))\n",
    "idx = 0\n",
    "while(idx<len(tokens) and y>=tokens[idx]):\n",
    "    idx += 1\n",
    "tokens[idx-len(tokens)]"
   ]
  },
  {
   "cell_type": "code",
   "execution_count": 31,
   "id": "4ba6f8eb-b331-4676-83c7-dea3ff07f861",
   "metadata": {},
   "outputs": [
    {
     "data": {
      "text/plain": [
       "[-9022953963321962585,\n",
       " -8607316303750322705,\n",
       " -8385076462431130982,\n",
       " -7957379375437967804,\n",
       " -7417712219352595483,\n",
       " -7395635957078341558,\n",
       " -6998313104729628767,\n",
       " -6338356079740924506,\n",
       " -5827707666838696845,\n",
       " -5739892388784185679,\n",
       " -5360210627224810431,\n",
       " -4705591742108781313,\n",
       " -4279305240827651923,\n",
       " -4208684371141653547,\n",
       " -3581576326401223302,\n",
       " -3230538918625539472,\n",
       " -2929103414252974039,\n",
       " -2485534426166285013,\n",
       " -1871726897324015822,\n",
       " -1451904617801952343,\n",
       " -1394237315474072753,\n",
       " -549860667982910997,\n",
       " -355862717567014054,\n",
       " 249968002678219285,\n",
       " 735434393125198205,\n",
       " 890407561919672241,\n",
       " 1508388593821872318,\n",
       " 1579811040616359962,\n",
       " 1961908178259705054,\n",
       " 2572729583594935715,\n",
       " 2979759583002132069,\n",
       " 3020079270518943200,\n",
       " 3797431515614482864,\n",
       " 4091579886858976013,\n",
       " 4392733884574882114,\n",
       " 4873187396840062403,\n",
       " 5109431291601403028,\n",
       " 5609103089550956044,\n",
       " 5927103224213753823,\n",
       " 6269798214087868143,\n",
       " 6688475896998557702,\n",
       " 7002859105439333362,\n",
       " 7438753137266882522,\n",
       " 7738774798150227003,\n",
       " 7931995902679149674,\n",
       " 8487876937596073610,\n",
       " 8818147605597828661,\n",
       " 8899360145757685173]"
      ]
     },
     "execution_count": 31,
     "metadata": {},
     "output_type": "execute_result"
    }
   ],
   "source": [
    "tokens"
   ]
  },
  {
   "cell_type": "code",
   "execution_count": 32,
   "id": "6351229e-d259-4ee2-a187-f1383889883d",
   "metadata": {},
   "outputs": [],
   "source": [
    "!python3 -m grpc_tools.protoc -I=. --python_out=. --grpc_python_out=. station.proto"
   ]
  },
  {
   "cell_type": "code",
   "execution_count": 33,
   "id": "e0d34fce-96ea-4f32-a8ae-0098157a44e1",
   "metadata": {},
   "outputs": [],
   "source": [
    "import os\n",
    "if not os.path.isdir('records.parquet'):\n",
    "    !unzip records.zip"
   ]
  },
  {
   "cell_type": "code",
   "execution_count": 34,
   "id": "470f5ca5-19bc-40b5-8b08-4b85182ea04d",
   "metadata": {},
   "outputs": [
    {
     "name": "stderr",
     "output_type": "stream",
     "text": [
      "                                                                                \r"
     ]
    }
   ],
   "source": [
    "df = spark.read.parquet(\"records.parquet\")"
   ]
  },
  {
   "cell_type": "code",
   "execution_count": 35,
   "id": "28f842c9-86b4-41d2-9ef5-66e3d940854c",
   "metadata": {},
   "outputs": [
    {
     "name": "stderr",
     "output_type": "stream",
     "text": [
      "                                                                                \r"
     ]
    },
    {
     "data": {
      "text/html": [
       "<div>\n",
       "<style scoped>\n",
       "    .dataframe tbody tr th:only-of-type {\n",
       "        vertical-align: middle;\n",
       "    }\n",
       "\n",
       "    .dataframe tbody tr th {\n",
       "        vertical-align: top;\n",
       "    }\n",
       "\n",
       "    .dataframe thead th {\n",
       "        text-align: right;\n",
       "    }\n",
       "</style>\n",
       "<table border=\"1\" class=\"dataframe\">\n",
       "  <thead>\n",
       "    <tr style=\"text-align: right;\">\n",
       "      <th></th>\n",
       "      <th>station</th>\n",
       "      <th>date</th>\n",
       "      <th>element</th>\n",
       "      <th>value</th>\n",
       "    </tr>\n",
       "  </thead>\n",
       "  <tbody>\n",
       "    <tr>\n",
       "      <th>0</th>\n",
       "      <td>USW00014898</td>\n",
       "      <td>20220101</td>\n",
       "      <td>TMAX</td>\n",
       "      <td>-32.0</td>\n",
       "    </tr>\n",
       "    <tr>\n",
       "      <th>1</th>\n",
       "      <td>USW00014898</td>\n",
       "      <td>20220102</td>\n",
       "      <td>TMAX</td>\n",
       "      <td>-77.0</td>\n",
       "    </tr>\n",
       "    <tr>\n",
       "      <th>2</th>\n",
       "      <td>USW00014898</td>\n",
       "      <td>20220103</td>\n",
       "      <td>TMAX</td>\n",
       "      <td>-60.0</td>\n",
       "    </tr>\n",
       "    <tr>\n",
       "      <th>3</th>\n",
       "      <td>USW00014898</td>\n",
       "      <td>20220104</td>\n",
       "      <td>TMAX</td>\n",
       "      <td>0.0</td>\n",
       "    </tr>\n",
       "    <tr>\n",
       "      <th>4</th>\n",
       "      <td>USW00014898</td>\n",
       "      <td>20220105</td>\n",
       "      <td>TMAX</td>\n",
       "      <td>-16.0</td>\n",
       "    </tr>\n",
       "    <tr>\n",
       "      <th>5</th>\n",
       "      <td>USW00014898</td>\n",
       "      <td>20220106</td>\n",
       "      <td>TMAX</td>\n",
       "      <td>-71.0</td>\n",
       "    </tr>\n",
       "    <tr>\n",
       "      <th>6</th>\n",
       "      <td>USW00014898</td>\n",
       "      <td>20220107</td>\n",
       "      <td>TMAX</td>\n",
       "      <td>-71.0</td>\n",
       "    </tr>\n",
       "    <tr>\n",
       "      <th>7</th>\n",
       "      <td>USW00014898</td>\n",
       "      <td>20220108</td>\n",
       "      <td>TMAX</td>\n",
       "      <td>-32.0</td>\n",
       "    </tr>\n",
       "    <tr>\n",
       "      <th>8</th>\n",
       "      <td>USW00014898</td>\n",
       "      <td>20220109</td>\n",
       "      <td>TMAX</td>\n",
       "      <td>-27.0</td>\n",
       "    </tr>\n",
       "    <tr>\n",
       "      <th>9</th>\n",
       "      <td>USW00014898</td>\n",
       "      <td>20220110</td>\n",
       "      <td>TMAX</td>\n",
       "      <td>-149.0</td>\n",
       "    </tr>\n",
       "  </tbody>\n",
       "</table>\n",
       "</div>"
      ],
      "text/plain": [
       "       station      date element  value\n",
       "0  USW00014898  20220101    TMAX  -32.0\n",
       "1  USW00014898  20220102    TMAX  -77.0\n",
       "2  USW00014898  20220103    TMAX  -60.0\n",
       "3  USW00014898  20220104    TMAX    0.0\n",
       "4  USW00014898  20220105    TMAX  -16.0\n",
       "5  USW00014898  20220106    TMAX  -71.0\n",
       "6  USW00014898  20220107    TMAX  -71.0\n",
       "7  USW00014898  20220108    TMAX  -32.0\n",
       "8  USW00014898  20220109    TMAX  -27.0\n",
       "9  USW00014898  20220110    TMAX -149.0"
      ]
     },
     "execution_count": 35,
     "metadata": {},
     "output_type": "execute_result"
    }
   ],
   "source": [
    "df.limit(10).toPandas()"
   ]
  },
  {
   "cell_type": "code",
   "execution_count": 36,
   "id": "c9b809a6-5df9-4b53-b293-781e25ac1a3a",
   "metadata": {},
   "outputs": [
    {
     "name": "stdout",
     "output_type": "stream",
     "text": [
      "+-----------+--------+-------+------+\n",
      "|    station|    date|element| value|\n",
      "+-----------+--------+-------+------+\n",
      "|USW00014898|20220101|   TMAX| -32.0|\n",
      "|USW00014898|20220102|   TMAX| -77.0|\n",
      "|USW00014898|20220103|   TMAX| -60.0|\n",
      "|USW00014898|20220104|   TMAX|   0.0|\n",
      "|USW00014898|20220105|   TMAX| -16.0|\n",
      "|USW00014898|20220106|   TMAX| -71.0|\n",
      "|USW00014898|20220107|   TMAX| -71.0|\n",
      "|USW00014898|20220108|   TMAX| -32.0|\n",
      "|USW00014898|20220109|   TMAX| -27.0|\n",
      "|USW00014898|20220110|   TMAX|-149.0|\n",
      "|USW00014898|20220111|   TMAX| -16.0|\n",
      "|USW00014898|20220112|   TMAX|   6.0|\n",
      "|USW00014898|20220113|   TMAX|  11.0|\n",
      "|USW00014898|20220114|   TMAX| -77.0|\n",
      "|USW00014898|20220115|   TMAX| -99.0|\n",
      "|USW00014898|20220116|   TMAX| -60.0|\n",
      "|USW00014898|20220117|   TMAX| -21.0|\n",
      "|USW00014898|20220118|   TMAX|  28.0|\n",
      "|USW00014898|20220119|   TMAX|  28.0|\n",
      "|USW00014898|20220120|   TMAX|-121.0|\n",
      "+-----------+--------+-------+------+\n",
      "only showing top 20 rows\n",
      "\n"
     ]
    }
   ],
   "source": [
    "df.filter(df.element.isin('TMAX', 'TMIN')).show()"
   ]
  },
  {
   "cell_type": "code",
   "execution_count": 37,
   "id": "2e0f7009-760c-4479-a806-d73f239af8a8",
   "metadata": {},
   "outputs": [],
   "source": [
    "df2 = df.groupBy([\"station\",\"date\"]).pivot(\"element\", [\"TMIN\", \"TMAX\"]).min(\"value\")"
   ]
  },
  {
   "cell_type": "code",
   "execution_count": 38,
   "id": "1eb4c91d-7e38-49b7-8ceb-2503b4e0575f",
   "metadata": {},
   "outputs": [
    {
     "name": "stderr",
     "output_type": "stream",
     "text": [
      "[Stage 9:>                                                          (0 + 1) / 1]\r"
     ]
    },
    {
     "name": "stdout",
     "output_type": "stream",
     "text": [
      "+-----------+--------+------+------+\n",
      "|    station|    date|  TMIN|  TMAX|\n",
      "+-----------+--------+------+------+\n",
      "|USW00014898|20220107|-166.0| -71.0|\n",
      "|USW00014839|20220924| 117.0| 194.0|\n",
      "|USW00014839|20220523|  83.0| 150.0|\n",
      "|USW00014839|20221019|  11.0|  83.0|\n",
      "|USW00014839|20220529| 139.0| 261.0|\n",
      "|USR0000WDDG|20221130|-106.0| -39.0|\n",
      "|USR0000WDDG|20220119|-178.0| -56.0|\n",
      "|USW00014837|20220222| -88.0| -38.0|\n",
      "|USR0000WDDG|20220202|-150.0|-106.0|\n",
      "|USW00014839|20220427|   0.0|  39.0|\n",
      "|USW00014839|20220708| 189.0| 222.0|\n",
      "|USW00014839|20220917| 200.0| 294.0|\n",
      "|USW00014837|20220624| 200.0| 322.0|\n",
      "|USW00014898|20220129|-116.0| -60.0|\n",
      "|USW00014839|20220715| 156.0| 233.0|\n",
      "|USR0000WDDG|20220224|-128.0| -61.0|\n",
      "|USR0000WDDG|20220130|-117.0| -33.0|\n",
      "|USR0000WDDG|20220414| -17.0|  50.0|\n",
      "|USW00014898|20220728| 156.0| 256.0|\n",
      "|USW00014837|20220906| 117.0| 256.0|\n",
      "+-----------+--------+------+------+\n",
      "only showing top 20 rows\n",
      "\n"
     ]
    },
    {
     "name": "stderr",
     "output_type": "stream",
     "text": [
      "                                                                                \r"
     ]
    }
   ],
   "source": [
    "df2.show()"
   ]
  },
  {
   "cell_type": "code",
   "execution_count": 39,
   "id": "443b1748-a1f5-4db1-ac60-4b6c93dd9044",
   "metadata": {},
   "outputs": [
    {
     "data": {
      "text/plain": [
       "1460"
      ]
     },
     "execution_count": 39,
     "metadata": {},
     "output_type": "execute_result"
    }
   ],
   "source": [
    "df2.count()"
   ]
  },
  {
   "cell_type": "code",
   "execution_count": 42,
   "id": "29719e0a-f0c9-441c-9377-461e9f2bab2f",
   "metadata": {},
   "outputs": [
    {
     "data": {
      "text/plain": [
       "356"
      ]
     },
     "execution_count": 42,
     "metadata": {},
     "output_type": "execute_result"
    }
   ],
   "source": [
    "#q5\n",
    "import grpc\n",
    "import station_pb2\n",
    "import station_pb2_grpc\n",
    "\n",
    "channel = grpc.insecure_channel(\"localhost:5440\")\n",
    "stub = station_pb2_grpc.StationStub(channel)\n",
    "\n",
    "data = df2.collect()\n",
    "for row in data:\n",
    "    id = row['station']\n",
    "    date = row['date'][:4]+'-'+row['date'][4:6]+'-'+row['date'][6:]\n",
    "    tmin = int(row['TMIN'])\n",
    "    tmax = int(row['TMAX'])\n",
    "    res = stub.RecordTemps(station_pb2.RecordTempsRequest(station=id, date=date, tmin=tmin, tmax=tmax))\n",
    "response = stub.StationMax(station_pb2.StationMaxRequest(station='USW00014837'))\n",
    "response.tmax"
   ]
  },
  {
   "cell_type": "code",
   "execution_count": 43,
   "id": "5a787623-2b0b-43b6-b4b7-350591052d31",
   "metadata": {},
   "outputs": [],
   "source": [
    "stations_spark_df = spark.read.format(\"org.apache.spark.sql.cassandra\") \\\n",
    "    .option(\"spark.cassandra.connection.host\", \"p6-db-1,p6-db-2,p6-db-3\") \\\n",
    "    .option(\"keyspace\", \"weather\") \\\n",
    "    .option(\"table\", \"stations\") \\\n",
    "    .load()"
   ]
  },
  {
   "cell_type": "code",
   "execution_count": 44,
   "id": "180f2aa5-e46f-42bd-8d62-401a7ac1385c",
   "metadata": {},
   "outputs": [],
   "source": [
    "stations_spark_df.createOrReplaceTempView(\"stations\")"
   ]
  },
  {
   "cell_type": "code",
   "execution_count": 45,
   "id": "9a6d90b5-6f69-407b-aea1-39359eef2332",
   "metadata": {},
   "outputs": [
    {
     "data": {
      "text/plain": [
       "[Table(name='stations', catalog=None, namespace=[], description=None, tableType='TEMPORARY', isTemporary=True)]"
      ]
     },
     "execution_count": 45,
     "metadata": {},
     "output_type": "execute_result"
    }
   ],
   "source": [
    "#q6\n",
    "spark.catalog.listTables()"
   ]
  },
  {
   "cell_type": "code",
   "execution_count": 46,
   "id": "7e22e00b-3b5b-4c83-ab64-64076f8136e3",
   "metadata": {},
   "outputs": [
    {
     "name": "stderr",
     "output_type": "stream",
     "text": [
      "                                                                                \r"
     ]
    },
    {
     "data": {
      "text/plain": [
       "{'USW00014839': 89.6986301369863,\n",
       " 'USR0000WDDG': 102.06849315068493,\n",
       " 'USW00014898': 102.93698630136986,\n",
       " 'USW00014837': 105.62739726027397}"
      ]
     },
     "execution_count": 46,
     "metadata": {},
     "output_type": "execute_result"
    },
    {
     "name": "stderr",
     "output_type": "stream",
     "text": [
      "23/11/22 23:39:12 WARN ChannelPool: [s0|p6-db-2/192.168.144.2:9042]  Error while opening new channel (ConnectionInitException: [s0|connecting...] Protocol initialization request, step 1 (STARTUP {CQL_VERSION=3.0.0, DRIVER_NAME=DataStax Java driver for Apache Cassandra(R), DRIVER_VERSION=4.13.0, CLIENT_ID=9e6802fd-3385-4d85-95b4-867765c178c4, APPLICATION_NAME=Spark-Cassandra-Connector-local-1700696068564}): failed to send request (java.nio.channels.NotYetConnectedException))\n",
      "23/11/22 23:39:19 WARN ChannelPool: [s0|p6-db-2/192.168.144.2:9042]  Error while opening new channel (ConnectionInitException: [s0|connecting...] Protocol initialization request, step 1 (STARTUP {CQL_VERSION=3.0.0, DRIVER_NAME=DataStax Java driver for Apache Cassandra(R), DRIVER_VERSION=4.13.0, CLIENT_ID=9e6802fd-3385-4d85-95b4-867765c178c4, APPLICATION_NAME=Spark-Cassandra-Connector-local-1700696068564}): failed to send request (java.nio.channels.NotYetConnectedException))\n",
      "23/11/22 23:39:28 WARN ChannelPool: [s0|p6-db-2/192.168.144.2:9042]  Error while opening new channel (ConnectionInitException: [s0|connecting...] Protocol initialization request, step 1 (STARTUP {CQL_VERSION=3.0.0, DRIVER_NAME=DataStax Java driver for Apache Cassandra(R), DRIVER_VERSION=4.13.0, CLIENT_ID=9e6802fd-3385-4d85-95b4-867765c178c4, APPLICATION_NAME=Spark-Cassandra-Connector-local-1700696068564}): failed to send request (java.nio.channels.NotYetConnectedException))\n",
      "WARNING:cassandra.connection:Heartbeat failed for connection (140203371204464) to 192.168.144.2:9042\n",
      "WARNING:cassandra.cluster:Host 192.168.144.2:9042 has been marked down\n"
     ]
    }
   ],
   "source": [
    "#q7\n",
    "temp_records = stations_spark_df.filter(col(\"record\").isNotNull())\n",
    "temp_diff = temp_records.withColumn(\"temp_diff\", col(\"record.tmax\") - col(\"record.tmin\"))\n",
    "avg_diff = temp_diff.groupBy(\"id\") \\\n",
    "    .agg({\"temp_diff\": \"avg\"}) \\\n",
    "    .withColumnRenamed(\"avg(temp_diff)\", \"avg_diff\")\n",
    "\n",
    "result_dict = dict(avg_diff.orderBy(\"avg_diff\").rdd.map(lambda x: (x[\"id\"], x[\"avg_diff\"])).collect())\n",
    "result_dict"
   ]
  },
  {
   "cell_type": "code",
   "execution_count": 47,
   "id": "f28c0552-4d4a-4402-bc89-f8bc093e9b09",
   "metadata": {},
   "outputs": [
    {
     "name": "stderr",
     "output_type": "stream",
     "text": [
      "WARNING:cassandra.cluster:[control connection] Error connecting to 192.168.144.2:9042:\n",
      "Traceback (most recent call last):\n",
      "  File \"cassandra/cluster.py\", line 3541, in cassandra.cluster.ControlConnection._reconnect_internal\n",
      "  File \"cassandra/cluster.py\", line 3563, in cassandra.cluster.ControlConnection._try_connect\n",
      "  File \"cassandra/cluster.py\", line 1630, in cassandra.cluster.Cluster.connection_factory\n",
      "  File \"cassandra/connection.py\", line 850, in cassandra.connection.Connection.factory\n",
      "  File \"/usr/local/lib/python3.10/dist-packages/cassandra/io/asyncorereactor.py\", line 347, in __init__\n",
      "    self._connect_socket()\n",
      "  File \"cassandra/connection.py\", line 917, in cassandra.connection.Connection._connect_socket\n",
      "OSError: [Errno None] Tried connecting to [('192.168.144.2', 9042)]. Last error: timed out\n",
      "WARNING:cassandra.pool:Error attempting to reconnect to 192.168.144.2:9042, scheduling retry in 1.92 seconds: [Errno None] Tried connecting to [('192.168.144.2', 9042)]. Last error: timed out\n"
     ]
    },
    {
     "name": "stdout",
     "output_type": "stream",
     "text": [
      "Datacenter: datacenter1\n",
      "=======================\n",
      "Status=Up/Down\n",
      "|/ State=Normal/Leaving/Joining/Moving\n",
      "--  Address        Load       Tokens  Owns (effective)  Host ID                               Rack \n",
      "UN  192.168.144.3  87.75 KiB  16      100.0%            ec7f5b01-8ee7-493e-bea3-ef75c949e4b8  rack1\n",
      "UN  192.168.144.4  87.74 KiB  16      100.0%            14acab58-d159-4c7f-a753-2a65b482ca27  rack1\n",
      "DN  192.168.144.2  87.75 KiB  16      100.0%            5c25eae9-4e89-4bf0-a856-db1b75d86ba8  rack1\n",
      "\n"
     ]
    }
   ],
   "source": [
    "#q8\n",
    "!nodetool status"
   ]
  },
  {
   "cell_type": "code",
   "execution_count": 48,
   "id": "930431fc-7c25-4789-92c4-affe1fd42bd0",
   "metadata": {},
   "outputs": [
    {
     "data": {
      "text/plain": [
       "'need 3 replicas, but only have 2'"
      ]
     },
     "execution_count": 48,
     "metadata": {},
     "output_type": "execute_result"
    },
    {
     "name": "stderr",
     "output_type": "stream",
     "text": [
      "23/11/22 23:39:41 WARN ChannelPool: [s0|p6-db-2/192.168.144.2:9042]  Error while opening new channel (ConnectionInitException: [s0|connecting...] Protocol initialization request, step 1 (STARTUP {CQL_VERSION=3.0.0, DRIVER_NAME=DataStax Java driver for Apache Cassandra(R), DRIVER_VERSION=4.13.0, CLIENT_ID=9e6802fd-3385-4d85-95b4-867765c178c4, APPLICATION_NAME=Spark-Cassandra-Connector-local-1700696068564}): failed to send request (java.nio.channels.NotYetConnectedException))\n",
      "WARNING:cassandra.pool:Error attempting to reconnect to 192.168.144.2:9042, scheduling retry in 4.0 seconds: [Errno None] Tried connecting to [('192.168.144.2', 9042)]. Last error: timed out\n",
      "WARNING:cassandra.pool:Error attempting to reconnect to 192.168.144.2:9042, scheduling retry in 7.76 seconds: [Errno None] Tried connecting to [('192.168.144.2', 9042)]. Last error: timed out\n"
     ]
    }
   ],
   "source": [
    "#q9\n",
    "request = station_pb2.StationMaxRequest(station='USW00014837')\n",
    "response = stub.StationMax(request)\n",
    "# print(type(response))\n",
    "response.error"
   ]
  },
  {
   "cell_type": "code",
   "execution_count": 49,
   "id": "aa34fefc-f20e-411c-8907-bc8e1031196b",
   "metadata": {},
   "outputs": [],
   "source": [
    "response = stub.StationMax(station_pb2.StationMaxRequest(station='USW00014837'))"
   ]
  },
  {
   "cell_type": "code",
   "execution_count": 50,
   "id": "76a2adaa-17d0-4341-ae71-372bb885b401",
   "metadata": {},
   "outputs": [
    {
     "data": {
      "text/plain": [
       "''"
      ]
     },
     "execution_count": 50,
     "metadata": {},
     "output_type": "execute_result"
    },
    {
     "name": "stderr",
     "output_type": "stream",
     "text": [
      "23/11/22 23:39:58 WARN ChannelPool: [s0|p6-db-2/192.168.144.2:9042]  Error while opening new channel (ConnectionInitException: [s0|connecting...] Protocol initialization request, step 1 (STARTUP {CQL_VERSION=3.0.0, DRIVER_NAME=DataStax Java driver for Apache Cassandra(R), DRIVER_VERSION=4.13.0, CLIENT_ID=9e6802fd-3385-4d85-95b4-867765c178c4, APPLICATION_NAME=Spark-Cassandra-Connector-local-1700696068564}): failed to send request (com.datastax.oss.driver.shaded.netty.channel.StacklessClosedChannelException))\n",
      "WARNING:cassandra.pool:Error attempting to reconnect to 192.168.144.2:9042, scheduling retry in 15.36 seconds: [Errno 113] Tried connecting to [('192.168.144.2', 9042)]. Last error: No route to host\n",
      "WARNING:cassandra.pool:Error attempting to reconnect to 192.168.144.2:9042, scheduling retry in 31.68 seconds: [Errno 113] Tried connecting to [('192.168.144.2', 9042)]. Last error: No route to host\n",
      "23/11/22 23:40:34 WARN ChannelPool: [s0|p6-db-2/192.168.144.2:9042]  Error while opening new channel (ConnectionInitException: [s0|connecting...] Protocol initialization request, step 1 (STARTUP {CQL_VERSION=3.0.0, DRIVER_NAME=DataStax Java driver for Apache Cassandra(R), DRIVER_VERSION=4.13.0, CLIENT_ID=9e6802fd-3385-4d85-95b4-867765c178c4, APPLICATION_NAME=Spark-Cassandra-Connector-local-1700696068564}): failed to send request (com.datastax.oss.driver.shaded.netty.channel.StacklessClosedChannelException))\n",
      "WARNING:cassandra.pool:Error attempting to reconnect to 192.168.144.2:9042, scheduling retry in 71.04 seconds: [Errno 113] Tried connecting to [('192.168.144.2', 9042)]. Last error: No route to host\n",
      "23/11/22 23:41:28 WARN ChannelPool: [s0|p6-db-2/192.168.144.2:9042]  Error while opening new channel (ConnectionInitException: [s0|connecting...] Protocol initialization request, step 1 (STARTUP {CQL_VERSION=3.0.0, DRIVER_NAME=DataStax Java driver for Apache Cassandra(R), DRIVER_VERSION=4.13.0, CLIENT_ID=9e6802fd-3385-4d85-95b4-867765c178c4, APPLICATION_NAME=Spark-Cassandra-Connector-local-1700696068564}): failed to send request (com.datastax.oss.driver.shaded.netty.channel.StacklessClosedChannelException))\n",
      "WARNING:cassandra.pool:Error attempting to reconnect to 192.168.144.2:9042, scheduling retry in 122.88 seconds: [Errno 113] Tried connecting to [('192.168.144.2', 9042)]. Last error: No route to host\n",
      "23/11/22 23:42:25 WARN ChannelPool: [s0|p6-db-2/192.168.144.2:9042]  Error while opening new channel (ConnectionInitException: [s0|connecting...] Protocol initialization request, step 1 (STARTUP {CQL_VERSION=3.0.0, DRIVER_NAME=DataStax Java driver for Apache Cassandra(R), DRIVER_VERSION=4.13.0, CLIENT_ID=9e6802fd-3385-4d85-95b4-867765c178c4, APPLICATION_NAME=Spark-Cassandra-Connector-local-1700696068564}): failed to send request (com.datastax.oss.driver.shaded.netty.channel.StacklessClosedChannelException))\n",
      "23/11/22 23:43:29 WARN ChannelPool: [s0|p6-db-2/192.168.144.2:9042]  Error while opening new channel (ConnectionInitException: [s0|connecting...] Protocol initialization request, step 1 (STARTUP {CQL_VERSION=3.0.0, DRIVER_NAME=DataStax Java driver for Apache Cassandra(R), DRIVER_VERSION=4.13.0, CLIENT_ID=9e6802fd-3385-4d85-95b4-867765c178c4, APPLICATION_NAME=Spark-Cassandra-Connector-local-1700696068564}): failed to send request (com.datastax.oss.driver.shaded.netty.channel.StacklessClosedChannelException))\n",
      "WARNING:cassandra.pool:Error attempting to reconnect to 192.168.144.2:9042, scheduling retry in 281.6 seconds: [Errno 113] Tried connecting to [('192.168.144.2', 9042)]. Last error: No route to host\n",
      "23/11/22 23:44:29 WARN ChannelPool: [s0|p6-db-2/192.168.144.2:9042]  Error while opening new channel (ConnectionInitException: [s0|connecting...] Protocol initialization request, step 1 (STARTUP {CQL_VERSION=3.0.0, DRIVER_NAME=DataStax Java driver for Apache Cassandra(R), DRIVER_VERSION=4.13.0, CLIENT_ID=9e6802fd-3385-4d85-95b4-867765c178c4, APPLICATION_NAME=Spark-Cassandra-Connector-local-1700696068564}): failed to send request (com.datastax.oss.driver.shaded.netty.channel.StacklessClosedChannelException))\n",
      "23/11/22 23:45:26 WARN ChannelPool: [s0|p6-db-2/192.168.144.2:9042]  Error while opening new channel (ConnectionInitException: [s0|connecting...] Protocol initialization request, step 1 (STARTUP {CQL_VERSION=3.0.0, DRIVER_NAME=DataStax Java driver for Apache Cassandra(R), DRIVER_VERSION=4.13.0, CLIENT_ID=9e6802fd-3385-4d85-95b4-867765c178c4, APPLICATION_NAME=Spark-Cassandra-Connector-local-1700696068564}): failed to send request (com.datastax.oss.driver.shaded.netty.channel.StacklessClosedChannelException))\n",
      "23/11/22 23:46:29 WARN ChannelPool: [s0|p6-db-2/192.168.144.2:9042]  Error while opening new channel (ConnectionInitException: [s0|connecting...] Protocol initialization request, step 1 (STARTUP {CQL_VERSION=3.0.0, DRIVER_NAME=DataStax Java driver for Apache Cassandra(R), DRIVER_VERSION=4.13.0, CLIENT_ID=9e6802fd-3385-4d85-95b4-867765c178c4, APPLICATION_NAME=Spark-Cassandra-Connector-local-1700696068564}): failed to send request (com.datastax.oss.driver.shaded.netty.channel.StacklessClosedChannelException))\n",
      "23/11/22 23:47:32 WARN ChannelPool: [s0|p6-db-2/192.168.144.2:9042]  Error while opening new channel (ConnectionInitException: [s0|connecting...] Protocol initialization request, step 1 (STARTUP {CQL_VERSION=3.0.0, DRIVER_NAME=DataStax Java driver for Apache Cassandra(R), DRIVER_VERSION=4.13.0, CLIENT_ID=9e6802fd-3385-4d85-95b4-867765c178c4, APPLICATION_NAME=Spark-Cassandra-Connector-local-1700696068564}): failed to send request (com.datastax.oss.driver.shaded.netty.channel.StacklessClosedChannelException))\n",
      "23/11/22 23:48:35 WARN ChannelPool: [s0|p6-db-2/192.168.144.2:9042]  Error while opening new channel (ConnectionInitException: [s0|connecting...] Protocol initialization request, step 1 (STARTUP {CQL_VERSION=3.0.0, DRIVER_NAME=DataStax Java driver for Apache Cassandra(R), DRIVER_VERSION=4.13.0, CLIENT_ID=9e6802fd-3385-4d85-95b4-867765c178c4, APPLICATION_NAME=Spark-Cassandra-Connector-local-1700696068564}): failed to send request (com.datastax.oss.driver.shaded.netty.channel.StacklessClosedChannelException))\n",
      "WARNING:cassandra.pool:Error attempting to reconnect to 192.168.144.2:9042, scheduling retry in 558.08 seconds: [Errno 113] Tried connecting to [('192.168.144.2', 9042)]. Last error: No route to host\n",
      "23/11/22 23:49:38 WARN ChannelPool: [s0|p6-db-2/192.168.144.2:9042]  Error while opening new channel (ConnectionInitException: [s0|connecting...] Protocol initialization request, step 1 (STARTUP {CQL_VERSION=3.0.0, DRIVER_NAME=DataStax Java driver for Apache Cassandra(R), DRIVER_VERSION=4.13.0, CLIENT_ID=9e6802fd-3385-4d85-95b4-867765c178c4, APPLICATION_NAME=Spark-Cassandra-Connector-local-1700696068564}): failed to send request (com.datastax.oss.driver.shaded.netty.channel.StacklessClosedChannelException))\n",
      "23/11/22 23:50:41 WARN ChannelPool: [s0|p6-db-2/192.168.144.2:9042]  Error while opening new channel (ConnectionInitException: [s0|connecting...] Protocol initialization request, step 1 (STARTUP {CQL_VERSION=3.0.0, DRIVER_NAME=DataStax Java driver for Apache Cassandra(R), DRIVER_VERSION=4.13.0, CLIENT_ID=9e6802fd-3385-4d85-95b4-867765c178c4, APPLICATION_NAME=Spark-Cassandra-Connector-local-1700696068564}): failed to send request (com.datastax.oss.driver.shaded.netty.channel.StacklessClosedChannelException))\n",
      "23/11/22 23:51:44 WARN ChannelPool: [s0|p6-db-2/192.168.144.2:9042]  Error while opening new channel (ConnectionInitException: [s0|connecting...] Protocol initialization request, step 1 (STARTUP {CQL_VERSION=3.0.0, DRIVER_NAME=DataStax Java driver for Apache Cassandra(R), DRIVER_VERSION=4.13.0, CLIENT_ID=9e6802fd-3385-4d85-95b4-867765c178c4, APPLICATION_NAME=Spark-Cassandra-Connector-local-1700696068564}): failed to send request (com.datastax.oss.driver.shaded.netty.channel.StacklessClosedChannelException))\n",
      "23/11/22 23:52:47 WARN ChannelPool: [s0|p6-db-2/192.168.144.2:9042]  Error while opening new channel (ConnectionInitException: [s0|connecting...] Protocol initialization request, step 1 (STARTUP {CQL_VERSION=3.0.0, DRIVER_NAME=DataStax Java driver for Apache Cassandra(R), DRIVER_VERSION=4.13.0, CLIENT_ID=9e6802fd-3385-4d85-95b4-867765c178c4, APPLICATION_NAME=Spark-Cassandra-Connector-local-1700696068564}): failed to send request (com.datastax.oss.driver.shaded.netty.channel.StacklessClosedChannelException))\n",
      "23/11/22 23:53:50 WARN ChannelPool: [s0|p6-db-2/192.168.144.2:9042]  Error while opening new channel (ConnectionInitException: [s0|connecting...] Protocol initialization request, step 1 (STARTUP {CQL_VERSION=3.0.0, DRIVER_NAME=DataStax Java driver for Apache Cassandra(R), DRIVER_VERSION=4.13.0, CLIENT_ID=9e6802fd-3385-4d85-95b4-867765c178c4, APPLICATION_NAME=Spark-Cassandra-Connector-local-1700696068564}): failed to send request (com.datastax.oss.driver.shaded.netty.channel.StacklessClosedChannelException))\n"
     ]
    }
   ],
   "source": [
    "#q10\n",
    "request = station_pb2.RecordTempsRequest(station='USW00014839', date='2023-11-22', tmin=-100, tmax=100)\n",
    "response = stub.RecordTemps(request)\n",
    "# print(type(response))\n",
    "response.error"
   ]
  },
  {
   "cell_type": "code",
   "execution_count": null,
   "id": "cb5f8843-65b4-4a7c-84f8-6d38ba0fc5fe",
   "metadata": {},
   "outputs": [],
   "source": []
  }
 ],
 "metadata": {
  "kernelspec": {
   "display_name": "Python 3 (ipykernel)",
   "language": "python",
   "name": "python3"
  },
  "language_info": {
   "codemirror_mode": {
    "name": "ipython",
    "version": 3
   },
   "file_extension": ".py",
   "mimetype": "text/x-python",
   "name": "python",
   "nbconvert_exporter": "python",
   "pygments_lexer": "ipython3",
   "version": "3.10.12"
  }
 },
 "nbformat": 4,
 "nbformat_minor": 5
}
